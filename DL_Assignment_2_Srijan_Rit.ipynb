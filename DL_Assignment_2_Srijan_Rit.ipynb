{
  "nbformat": 4,
  "nbformat_minor": 0,
  "metadata": {
    "colab": {
      "provenance": [],
      "gpuType": "T4"
    },
    "kernelspec": {
      "name": "python3",
      "display_name": "Python 3"
    },
    "language_info": {
      "name": "python"
    },
    "accelerator": "GPU"
  },
  "cells": [
    {
      "cell_type": "code",
      "execution_count": null,
      "metadata": {
        "id": "JRub-GuZpe_s"
      },
      "outputs": [],
      "source": [
        "import tensorflow as tf\n",
        "from tensorflow.keras.datasets import cifar10\n",
        "from tensorflow.keras.preprocessing.image import ImageDataGenerator\n",
        "from tensorflow.keras.applications import VGG16\n",
        "from tensorflow.keras.models import Sequential\n",
        "from tensorflow.keras.layers import Flatten, Dense, Dropout, Conv2D, MaxPooling2D, BatchNormalization, GlobalMaxPooling2D\n",
        "from tensorflow.keras.optimizers import Adam\n",
        "from tensorflow.keras.utils import to_categorical\n",
        "from tensorflow.keras.callbacks import LearningRateScheduler\n",
        "import numpy as np\n",
        "import matplotlib.pyplot as plt"
      ]
    },
    {
      "cell_type": "code",
      "source": [
        "(X_train, y_train), (X_test, y_test) = cifar10.load_data()\n",
        "X_train = X_train.astype('float32')\n",
        "X_test = X_test.astype('float32')\n",
        "\n",
        "# Input normalization\n",
        "X_train = X_train / 255.0\n",
        "X_test = X_test / 255.0\n",
        "\n",
        "y_train = to_categorical(y_train, 10)  # Convert labels to one-hot encoding\n",
        "y_test = to_categorical(y_test, 10)\n",
        "\n",
        "class_num = y_test.shape[1]\n",
        "class_num\n",
        "X_train.shape\n",
        "\n",
        "def lr_schedule(epoch):\n",
        "  init_lr = 0.001\n",
        "  if epoch <= 50:\n",
        "    return init_lr\n",
        "  else:\n",
        "    return init_lr * 0.1\n",
        "\n",
        "lr_scheduler = LearningRateScheduler(lr_schedule)"
      ],
      "metadata": {
        "colab": {
          "base_uri": "https://localhost:8080/"
        },
        "id": "Limgfi4Nqs4j",
        "outputId": "a699f17b-28db-4d56-fde2-e234998744df"
      },
      "execution_count": null,
      "outputs": [
        {
          "output_type": "stream",
          "name": "stdout",
          "text": [
            "Downloading data from https://www.cs.toronto.edu/~kriz/cifar-10-python.tar.gz\n",
            "170498071/170498071 [==============================] - 4s 0us/step\n"
          ]
        }
      ]
    },
    {
      "cell_type": "markdown",
      "source": [
        "# CNN Model from Scratch"
      ],
      "metadata": {
        "id": "qSK7flFdFm3g"
      }
    },
    {
      "cell_type": "code",
      "source": [
        "model = tf.keras.Sequential()\n",
        "model.add(Conv2D(32, (3, 3), activation='relu', kernel_initializer='he_normal', padding='same', input_shape=(32, 32, 3)))\n",
        "model.add(BatchNormalization())\n",
        "\n",
        "model.add(Conv2D(32, (3, 3), activation='relu', kernel_initializer='he_normal', padding='same'))\n",
        "model.add(BatchNormalization())\n",
        "model.add(MaxPooling2D((2, 2)))\n",
        "model.add(Dropout(0.2))\n",
        "\n",
        "model.add(Conv2D(64, (3, 3), activation='relu', kernel_initializer='he_normal', padding='same'))\n",
        "model.add(BatchNormalization())\n",
        "\n",
        "model.add(Conv2D(64, (3, 3), activation='relu', kernel_initializer='he_normal', padding='same'))\n",
        "model.add(BatchNormalization())\n",
        "model.add(MaxPooling2D((2, 2)))\n",
        "model.add(Dropout(0.3))\n",
        "\n",
        "model.add(Conv2D(128, (3, 3), activation='relu', kernel_initializer='he_normal', padding='same'))\n",
        "model.add(BatchNormalization())\n",
        "\n",
        "model.add(Conv2D(128, (3, 3), activation='relu', kernel_initializer='he_normal', padding='same'))\n",
        "model.add(BatchNormalization())\n",
        "model.add(MaxPooling2D((2, 2)))\n",
        "model.add(Dropout(0.4))\n",
        "model.add(Flatten())\n",
        "\n",
        "model.add(Dense(128, activation='relu', kernel_initializer='he_normal'))\n",
        "model.add(BatchNormalization())\n",
        "model.add(Dropout(0.5))\n",
        "\n",
        "model.add(Dense(10, activation='softmax'))"
      ],
      "metadata": {
        "id": "YD4EGLppB8ZQ"
      },
      "execution_count": null,
      "outputs": []
    },
    {
      "cell_type": "code",
      "source": [
        "# Compile the model\n",
        "model.compile(optimizer='adam', loss='categorical_crossentropy', metrics=['accuracy'])\n",
        "\n",
        "model.summary()"
      ],
      "metadata": {
        "colab": {
          "base_uri": "https://localhost:8080/"
        },
        "id": "zcTcKt3RF4fG",
        "outputId": "a9233636-2edf-4988-dbf2-15969d15e5f8"
      },
      "execution_count": null,
      "outputs": [
        {
          "output_type": "stream",
          "name": "stdout",
          "text": [
            "Model: \"sequential\"\n",
            "_________________________________________________________________\n",
            " Layer (type)                Output Shape              Param #   \n",
            "=================================================================\n",
            " conv2d (Conv2D)             (None, 32, 32, 32)        896       \n",
            "                                                                 \n",
            " batch_normalization (Batch  (None, 32, 32, 32)        128       \n",
            " Normalization)                                                  \n",
            "                                                                 \n",
            " conv2d_1 (Conv2D)           (None, 32, 32, 32)        9248      \n",
            "                                                                 \n",
            " batch_normalization_1 (Bat  (None, 32, 32, 32)        128       \n",
            " chNormalization)                                                \n",
            "                                                                 \n",
            " max_pooling2d (MaxPooling2  (None, 16, 16, 32)        0         \n",
            " D)                                                              \n",
            "                                                                 \n",
            " dropout (Dropout)           (None, 16, 16, 32)        0         \n",
            "                                                                 \n",
            " conv2d_2 (Conv2D)           (None, 16, 16, 64)        18496     \n",
            "                                                                 \n",
            " batch_normalization_2 (Bat  (None, 16, 16, 64)        256       \n",
            " chNormalization)                                                \n",
            "                                                                 \n",
            " conv2d_3 (Conv2D)           (None, 16, 16, 64)        36928     \n",
            "                                                                 \n",
            " batch_normalization_3 (Bat  (None, 16, 16, 64)        256       \n",
            " chNormalization)                                                \n",
            "                                                                 \n",
            " max_pooling2d_1 (MaxPoolin  (None, 8, 8, 64)          0         \n",
            " g2D)                                                            \n",
            "                                                                 \n",
            " dropout_1 (Dropout)         (None, 8, 8, 64)          0         \n",
            "                                                                 \n",
            " conv2d_4 (Conv2D)           (None, 8, 8, 128)         73856     \n",
            "                                                                 \n",
            " batch_normalization_4 (Bat  (None, 8, 8, 128)         512       \n",
            " chNormalization)                                                \n",
            "                                                                 \n",
            " conv2d_5 (Conv2D)           (None, 8, 8, 128)         147584    \n",
            "                                                                 \n",
            " batch_normalization_5 (Bat  (None, 8, 8, 128)         512       \n",
            " chNormalization)                                                \n",
            "                                                                 \n",
            " max_pooling2d_2 (MaxPoolin  (None, 4, 4, 128)         0         \n",
            " g2D)                                                            \n",
            "                                                                 \n",
            " dropout_2 (Dropout)         (None, 4, 4, 128)         0         \n",
            "                                                                 \n",
            " flatten (Flatten)           (None, 2048)              0         \n",
            "                                                                 \n",
            " dense (Dense)               (None, 128)               262272    \n",
            "                                                                 \n",
            " batch_normalization_6 (Bat  (None, 128)               512       \n",
            " chNormalization)                                                \n",
            "                                                                 \n",
            " dropout_3 (Dropout)         (None, 128)               0         \n",
            "                                                                 \n",
            " dense_1 (Dense)             (None, 10)                1290      \n",
            "                                                                 \n",
            "=================================================================\n",
            "Total params: 552874 (2.11 MB)\n",
            "Trainable params: 551722 (2.10 MB)\n",
            "Non-trainable params: 1152 (4.50 KB)\n",
            "_________________________________________________________________\n"
          ]
        }
      ]
    },
    {
      "cell_type": "code",
      "source": [
        "history = model.fit(X_train, y_train, epochs=100, batch_size=64, callbacks=[lr_scheduler])"
      ],
      "metadata": {
        "colab": {
          "base_uri": "https://localhost:8080/"
        },
        "id": "bDseOUMrF79B",
        "outputId": "dbb7116d-fe71-4668-b7bd-ab18a90b944b"
      },
      "execution_count": null,
      "outputs": [
        {
          "output_type": "stream",
          "name": "stdout",
          "text": [
            "Epoch 1/100\n",
            "782/782 [==============================] - 25s 13ms/step - loss: 1.6725 - accuracy: 0.4229 - lr: 0.0010\n",
            "Epoch 2/100\n",
            "782/782 [==============================] - 10s 12ms/step - loss: 1.1299 - accuracy: 0.5990 - lr: 0.0010\n",
            "Epoch 3/100\n",
            "782/782 [==============================] - 9s 12ms/step - loss: 0.9444 - accuracy: 0.6679 - lr: 0.0010\n",
            "Epoch 4/100\n",
            "782/782 [==============================] - 10s 12ms/step - loss: 0.8290 - accuracy: 0.7087 - lr: 0.0010\n",
            "Epoch 5/100\n",
            "782/782 [==============================] - 10s 13ms/step - loss: 0.7512 - accuracy: 0.7397 - lr: 0.0010\n",
            "Epoch 6/100\n",
            "782/782 [==============================] - 10s 13ms/step - loss: 0.6866 - accuracy: 0.7624 - lr: 0.0010\n",
            "Epoch 7/100\n",
            "782/782 [==============================] - 10s 13ms/step - loss: 0.6366 - accuracy: 0.7830 - lr: 0.0010\n",
            "Epoch 8/100\n",
            "782/782 [==============================] - 9s 12ms/step - loss: 0.6041 - accuracy: 0.7914 - lr: 0.0010\n",
            "Epoch 9/100\n",
            "782/782 [==============================] - 10s 13ms/step - loss: 0.5574 - accuracy: 0.8080 - lr: 0.0010\n",
            "Epoch 10/100\n",
            "782/782 [==============================] - 10s 13ms/step - loss: 0.5301 - accuracy: 0.8179 - lr: 0.0010\n",
            "Epoch 11/100\n",
            "782/782 [==============================] - 10s 12ms/step - loss: 0.5119 - accuracy: 0.8240 - lr: 0.0010\n",
            "Epoch 12/100\n",
            "782/782 [==============================] - 10s 12ms/step - loss: 0.4830 - accuracy: 0.8340 - lr: 0.0010\n",
            "Epoch 13/100\n",
            "782/782 [==============================] - 9s 12ms/step - loss: 0.4527 - accuracy: 0.8443 - lr: 0.0010\n",
            "Epoch 14/100\n",
            "782/782 [==============================] - 10s 13ms/step - loss: 0.4404 - accuracy: 0.8482 - lr: 0.0010\n",
            "Epoch 15/100\n",
            "782/782 [==============================] - 10s 12ms/step - loss: 0.4276 - accuracy: 0.8527 - lr: 0.0010\n",
            "Epoch 16/100\n",
            "782/782 [==============================] - 10s 12ms/step - loss: 0.4054 - accuracy: 0.8604 - lr: 0.0010\n",
            "Epoch 17/100\n",
            "782/782 [==============================] - 9s 12ms/step - loss: 0.3862 - accuracy: 0.8663 - lr: 0.0010\n",
            "Epoch 18/100\n",
            "782/782 [==============================] - 10s 12ms/step - loss: 0.3781 - accuracy: 0.8696 - lr: 0.0010\n",
            "Epoch 19/100\n",
            "782/782 [==============================] - 10s 12ms/step - loss: 0.3728 - accuracy: 0.8698 - lr: 0.0010\n",
            "Epoch 20/100\n",
            "782/782 [==============================] - 10s 12ms/step - loss: 0.3507 - accuracy: 0.8788 - lr: 0.0010\n",
            "Epoch 21/100\n",
            "782/782 [==============================] - 10s 12ms/step - loss: 0.3508 - accuracy: 0.8793 - lr: 0.0010\n",
            "Epoch 22/100\n",
            "782/782 [==============================] - 9s 12ms/step - loss: 0.3362 - accuracy: 0.8833 - lr: 0.0010\n",
            "Epoch 23/100\n",
            "782/782 [==============================] - 10s 12ms/step - loss: 0.3264 - accuracy: 0.8854 - lr: 0.0010\n",
            "Epoch 24/100\n",
            "782/782 [==============================] - 10s 12ms/step - loss: 0.3116 - accuracy: 0.8917 - lr: 0.0010\n",
            "Epoch 25/100\n",
            "782/782 [==============================] - 10s 12ms/step - loss: 0.3099 - accuracy: 0.8922 - lr: 0.0010\n",
            "Epoch 26/100\n",
            "782/782 [==============================] - 9s 12ms/step - loss: 0.3010 - accuracy: 0.8946 - lr: 0.0010\n",
            "Epoch 27/100\n",
            "782/782 [==============================] - 10s 12ms/step - loss: 0.2936 - accuracy: 0.8980 - lr: 0.0010\n",
            "Epoch 28/100\n",
            "782/782 [==============================] - 10s 12ms/step - loss: 0.2945 - accuracy: 0.8985 - lr: 0.0010\n",
            "Epoch 29/100\n",
            "782/782 [==============================] - 10s 12ms/step - loss: 0.2829 - accuracy: 0.9016 - lr: 0.0010\n",
            "Epoch 30/100\n",
            "782/782 [==============================] - 10s 13ms/step - loss: 0.2752 - accuracy: 0.9045 - lr: 0.0010\n",
            "Epoch 31/100\n",
            "782/782 [==============================] - 9s 12ms/step - loss: 0.2692 - accuracy: 0.9059 - lr: 0.0010\n",
            "Epoch 32/100\n",
            "782/782 [==============================] - 10s 12ms/step - loss: 0.2626 - accuracy: 0.9089 - lr: 0.0010\n",
            "Epoch 33/100\n",
            "782/782 [==============================] - 10s 12ms/step - loss: 0.2604 - accuracy: 0.9092 - lr: 0.0010\n",
            "Epoch 34/100\n",
            "782/782 [==============================] - 10s 13ms/step - loss: 0.2566 - accuracy: 0.9093 - lr: 0.0010\n",
            "Epoch 35/100\n",
            "782/782 [==============================] - 9s 12ms/step - loss: 0.2489 - accuracy: 0.9141 - lr: 0.0010\n",
            "Epoch 36/100\n",
            "782/782 [==============================] - 10s 12ms/step - loss: 0.2523 - accuracy: 0.9125 - lr: 0.0010\n",
            "Epoch 37/100\n",
            "782/782 [==============================] - 10s 12ms/step - loss: 0.2399 - accuracy: 0.9155 - lr: 0.0010\n",
            "Epoch 38/100\n",
            "782/782 [==============================] - 10s 13ms/step - loss: 0.2405 - accuracy: 0.9164 - lr: 0.0010\n",
            "Epoch 39/100\n",
            "782/782 [==============================] - 10s 12ms/step - loss: 0.2322 - accuracy: 0.9190 - lr: 0.0010\n",
            "Epoch 40/100\n",
            "782/782 [==============================] - 9s 12ms/step - loss: 0.2302 - accuracy: 0.9203 - lr: 0.0010\n",
            "Epoch 41/100\n",
            "782/782 [==============================] - 10s 12ms/step - loss: 0.2300 - accuracy: 0.9184 - lr: 0.0010\n",
            "Epoch 42/100\n",
            "782/782 [==============================] - 10s 12ms/step - loss: 0.2193 - accuracy: 0.9225 - lr: 0.0010\n",
            "Epoch 43/100\n",
            "782/782 [==============================] - 10s 12ms/step - loss: 0.2210 - accuracy: 0.9227 - lr: 0.0010\n",
            "Epoch 44/100\n",
            "782/782 [==============================] - 9s 12ms/step - loss: 0.2173 - accuracy: 0.9237 - lr: 0.0010\n",
            "Epoch 45/100\n",
            "782/782 [==============================] - 10s 12ms/step - loss: 0.2132 - accuracy: 0.9261 - lr: 0.0010\n",
            "Epoch 46/100\n",
            "782/782 [==============================] - 10s 12ms/step - loss: 0.2146 - accuracy: 0.9254 - lr: 0.0010\n",
            "Epoch 47/100\n",
            "782/782 [==============================] - 10s 12ms/step - loss: 0.2063 - accuracy: 0.9276 - lr: 0.0010\n",
            "Epoch 48/100\n",
            "782/782 [==============================] - 10s 12ms/step - loss: 0.2040 - accuracy: 0.9298 - lr: 0.0010\n",
            "Epoch 49/100\n",
            "782/782 [==============================] - 9s 12ms/step - loss: 0.2036 - accuracy: 0.9291 - lr: 0.0010\n",
            "Epoch 50/100\n",
            "782/782 [==============================] - 10s 13ms/step - loss: 0.1996 - accuracy: 0.9284 - lr: 0.0010\n",
            "Epoch 51/100\n",
            "782/782 [==============================] - 10s 13ms/step - loss: 0.1926 - accuracy: 0.9325 - lr: 0.0010\n",
            "Epoch 52/100\n",
            "782/782 [==============================] - 10s 13ms/step - loss: 0.1675 - accuracy: 0.9406 - lr: 1.0000e-04\n",
            "Epoch 53/100\n",
            "782/782 [==============================] - 10s 12ms/step - loss: 0.1564 - accuracy: 0.9453 - lr: 1.0000e-04\n",
            "Epoch 54/100\n",
            "782/782 [==============================] - 9s 12ms/step - loss: 0.1461 - accuracy: 0.9492 - lr: 1.0000e-04\n",
            "Epoch 55/100\n",
            "782/782 [==============================] - 10s 12ms/step - loss: 0.1418 - accuracy: 0.9493 - lr: 1.0000e-04\n",
            "Epoch 56/100\n",
            "782/782 [==============================] - 10s 12ms/step - loss: 0.1388 - accuracy: 0.9520 - lr: 1.0000e-04\n",
            "Epoch 57/100\n",
            "782/782 [==============================] - 10s 12ms/step - loss: 0.1346 - accuracy: 0.9534 - lr: 1.0000e-04\n",
            "Epoch 58/100\n",
            "782/782 [==============================] - 9s 12ms/step - loss: 0.1363 - accuracy: 0.9532 - lr: 1.0000e-04\n",
            "Epoch 59/100\n",
            "782/782 [==============================] - 10s 13ms/step - loss: 0.1307 - accuracy: 0.9532 - lr: 1.0000e-04\n",
            "Epoch 60/100\n",
            "782/782 [==============================] - 10s 13ms/step - loss: 0.1275 - accuracy: 0.9544 - lr: 1.0000e-04\n",
            "Epoch 61/100\n",
            "782/782 [==============================] - 10s 12ms/step - loss: 0.1283 - accuracy: 0.9559 - lr: 1.0000e-04\n",
            "Epoch 62/100\n",
            "782/782 [==============================] - 10s 12ms/step - loss: 0.1271 - accuracy: 0.9550 - lr: 1.0000e-04\n",
            "Epoch 63/100\n",
            "782/782 [==============================] - 10s 12ms/step - loss: 0.1256 - accuracy: 0.9565 - lr: 1.0000e-04\n",
            "Epoch 64/100\n",
            "782/782 [==============================] - 10s 13ms/step - loss: 0.1231 - accuracy: 0.9574 - lr: 1.0000e-04\n",
            "Epoch 65/100\n",
            "782/782 [==============================] - 10s 13ms/step - loss: 0.1213 - accuracy: 0.9577 - lr: 1.0000e-04\n",
            "Epoch 66/100\n",
            "782/782 [==============================] - 10s 13ms/step - loss: 0.1195 - accuracy: 0.9579 - lr: 1.0000e-04\n",
            "Epoch 67/100\n",
            "782/782 [==============================] - 10s 12ms/step - loss: 0.1208 - accuracy: 0.9577 - lr: 1.0000e-04\n",
            "Epoch 68/100\n",
            "782/782 [==============================] - 10s 12ms/step - loss: 0.1184 - accuracy: 0.9593 - lr: 1.0000e-04\n",
            "Epoch 69/100\n",
            "782/782 [==============================] - 10s 13ms/step - loss: 0.1167 - accuracy: 0.9590 - lr: 1.0000e-04\n",
            "Epoch 70/100\n",
            "782/782 [==============================] - 10s 13ms/step - loss: 0.1110 - accuracy: 0.9610 - lr: 1.0000e-04\n",
            "Epoch 71/100\n",
            "782/782 [==============================] - 10s 13ms/step - loss: 0.1142 - accuracy: 0.9599 - lr: 1.0000e-04\n",
            "Epoch 72/100\n",
            "782/782 [==============================] - 10s 12ms/step - loss: 0.1169 - accuracy: 0.9588 - lr: 1.0000e-04\n",
            "Epoch 73/100\n",
            "782/782 [==============================] - 10s 12ms/step - loss: 0.1104 - accuracy: 0.9604 - lr: 1.0000e-04\n",
            "Epoch 74/100\n",
            "782/782 [==============================] - 10s 12ms/step - loss: 0.1116 - accuracy: 0.9605 - lr: 1.0000e-04\n",
            "Epoch 75/100\n",
            "782/782 [==============================] - 10s 12ms/step - loss: 0.1088 - accuracy: 0.9616 - lr: 1.0000e-04\n",
            "Epoch 76/100\n",
            "782/782 [==============================] - 10s 12ms/step - loss: 0.1122 - accuracy: 0.9600 - lr: 1.0000e-04\n",
            "Epoch 77/100\n",
            "782/782 [==============================] - 10s 12ms/step - loss: 0.1119 - accuracy: 0.9607 - lr: 1.0000e-04\n",
            "Epoch 78/100\n",
            "782/782 [==============================] - 10s 13ms/step - loss: 0.1144 - accuracy: 0.9608 - lr: 1.0000e-04\n",
            "Epoch 79/100\n",
            "782/782 [==============================] - 10s 13ms/step - loss: 0.1078 - accuracy: 0.9617 - lr: 1.0000e-04\n",
            "Epoch 80/100\n",
            "782/782 [==============================] - 10s 12ms/step - loss: 0.1063 - accuracy: 0.9627 - lr: 1.0000e-04\n",
            "Epoch 81/100\n",
            "782/782 [==============================] - 9s 12ms/step - loss: 0.1063 - accuracy: 0.9628 - lr: 1.0000e-04\n",
            "Epoch 82/100\n",
            "782/782 [==============================] - 10s 12ms/step - loss: 0.1074 - accuracy: 0.9624 - lr: 1.0000e-04\n",
            "Epoch 83/100\n",
            "782/782 [==============================] - 10s 12ms/step - loss: 0.1018 - accuracy: 0.9641 - lr: 1.0000e-04\n",
            "Epoch 84/100\n",
            "782/782 [==============================] - 10s 13ms/step - loss: 0.1055 - accuracy: 0.9634 - lr: 1.0000e-04\n",
            "Epoch 85/100\n",
            "782/782 [==============================] - 9s 12ms/step - loss: 0.1033 - accuracy: 0.9639 - lr: 1.0000e-04\n",
            "Epoch 86/100\n",
            "782/782 [==============================] - 10s 12ms/step - loss: 0.1009 - accuracy: 0.9648 - lr: 1.0000e-04\n",
            "Epoch 87/100\n",
            "782/782 [==============================] - 10s 12ms/step - loss: 0.1017 - accuracy: 0.9648 - lr: 1.0000e-04\n",
            "Epoch 88/100\n",
            "782/782 [==============================] - 10s 12ms/step - loss: 0.1021 - accuracy: 0.9643 - lr: 1.0000e-04\n",
            "Epoch 89/100\n",
            "782/782 [==============================] - 10s 13ms/step - loss: 0.1087 - accuracy: 0.9614 - lr: 1.0000e-04\n",
            "Epoch 90/100\n",
            "782/782 [==============================] - 9s 12ms/step - loss: 0.1004 - accuracy: 0.9645 - lr: 1.0000e-04\n",
            "Epoch 91/100\n",
            "782/782 [==============================] - 10s 12ms/step - loss: 0.0979 - accuracy: 0.9658 - lr: 1.0000e-04\n",
            "Epoch 92/100\n",
            "782/782 [==============================] - 10s 13ms/step - loss: 0.1005 - accuracy: 0.9651 - lr: 1.0000e-04\n",
            "Epoch 93/100\n",
            "782/782 [==============================] - 10s 13ms/step - loss: 0.1006 - accuracy: 0.9654 - lr: 1.0000e-04\n",
            "Epoch 94/100\n",
            "782/782 [==============================] - 10s 12ms/step - loss: 0.0978 - accuracy: 0.9657 - lr: 1.0000e-04\n",
            "Epoch 95/100\n",
            "782/782 [==============================] - 9s 12ms/step - loss: 0.1046 - accuracy: 0.9634 - lr: 1.0000e-04\n",
            "Epoch 96/100\n",
            "782/782 [==============================] - 10s 12ms/step - loss: 0.0975 - accuracy: 0.9654 - lr: 1.0000e-04\n",
            "Epoch 97/100\n",
            "782/782 [==============================] - 10s 12ms/step - loss: 0.0988 - accuracy: 0.9661 - lr: 1.0000e-04\n",
            "Epoch 98/100\n",
            "782/782 [==============================] - 10s 13ms/step - loss: 0.1004 - accuracy: 0.9653 - lr: 1.0000e-04\n",
            "Epoch 99/100\n",
            "782/782 [==============================] - 10s 12ms/step - loss: 0.0987 - accuracy: 0.9651 - lr: 1.0000e-04\n",
            "Epoch 100/100\n",
            "782/782 [==============================] - 10s 12ms/step - loss: 0.0982 - accuracy: 0.9658 - lr: 1.0000e-04\n"
          ]
        }
      ]
    },
    {
      "cell_type": "code",
      "source": [
        "plt.plot(history.history['loss'])\n",
        "plt.title('Model loss')\n",
        "plt.ylabel('Loss')\n",
        "plt.xlabel('Epoch')\n",
        "plt.show()\n",
        "\n",
        "plt.plot(history.history['accuracy'])\n",
        "plt.title('Model accuracy')\n",
        "plt.ylabel('Accuracy')\n",
        "plt.xlabel('Epoch')\n",
        "plt.show()"
      ],
      "metadata": {
        "colab": {
          "base_uri": "https://localhost:8080/",
          "height": 927
        },
        "id": "T6flHVXuGUFf",
        "outputId": "b737b3ee-8f4a-4838-a42f-c09dfa989ab6"
      },
      "execution_count": null,
      "outputs": [
        {
          "output_type": "display_data",
          "data": {
            "text/plain": [
              "<Figure size 640x480 with 1 Axes>"
            ],
            "image/png": "[encoded data removed]"
          },
          "metadata": {}
        },
        {
          "output_type": "display_data",
          "data": {
            "text/plain": [
              "<Figure size 640x480 with 1 Axes>"
            ],
            "image/png": "[encoded data removed]"
          },
          "metadata": {}
        }
      ]
    },
    {
      "cell_type": "code",
      "source": [
        "test_loss, test_accuracy = model.evaluate(X_test, y_test)\n",
        "print(f\"Test Accuracy: {test_accuracy * 100:.2f}%\")"
      ],
      "metadata": {
        "id": "uL59E0J3HDsg",
        "colab": {
          "base_uri": "https://localhost:8080/"
        },
        "outputId": "ec853898-9e86-4ef0-aeb4-5bd28296da89"
      },
      "execution_count": null,
      "outputs": [
        {
          "output_type": "stream",
          "name": "stdout",
          "text": [
            "313/313 [==============================] - 3s 4ms/step - loss: 0.4828 - accuracy: 0.8824\n",
            "Test Accuracy: 88.24%\n"
          ]
        }
      ]
    },
    {
      "cell_type": "code",
      "source": [
        "tf.keras.backend.clear_session()"
      ],
      "metadata": {
        "id": "9RX4w-3ishoU"
      },
      "execution_count": null,
      "outputs": []
    },
    {
      "cell_type": "markdown",
      "source": [
        "# Transfer Learning with VGG-16"
      ],
      "metadata": {
        "id": "hrEI5i361p2x"
      }
    },
    {
      "cell_type": "code",
      "source": [
        "# Data augmentation\n",
        "datagen = ImageDataGenerator(\n",
        "    rotation_range=10,\n",
        "    width_shift_range=0.1,\n",
        "    height_shift_range=0.1,\n",
        "    horizontal_flip=True,\n",
        "    vertical_flip=False\n",
        ")\n",
        "\n",
        "datagen.fit(X_train)\n",
        "\n",
        "# VGG16 base model\n",
        "base_model = VGG16(include_top=False, weights='imagenet', input_shape=(32, 32, 3))\n",
        "\n",
        "# Build a custom classifier on top of the base model\n",
        "model = tf.keras.Sequential()\n",
        "model.add(base_model)\n",
        "model.add(Flatten())\n",
        "model.add(Dense(256, activation='relu'))\n",
        "model.add(Dense(128, activation='relu'))\n",
        "model.add(Dropout(0.4))\n",
        "model.add(Dense(10, activation='softmax'))\n",
        "\n",
        "base_model.trainable = True\n",
        "\n",
        "# Compile the model\n",
        "model.compile(loss='categorical_crossentropy',\n",
        "              optimizer=Adam(),\n",
        "              metrics=['accuracy'])\n",
        "\n",
        "model.summary()"
      ],
      "metadata": {
        "colab": {
          "base_uri": "https://localhost:8080/"
        },
        "id": "O-lPsFesqhkf",
        "outputId": "4d6867c1-be10-4dbb-f361-3bf55a2329cc"
      },
      "execution_count": null,
      "outputs": [
        {
          "output_type": "stream",
          "name": "stdout",
          "text": [
            "Downloading data from https://storage.googleapis.com/tensorflow/keras-applications/vgg16/vgg16_weights_tf_dim_ordering_tf_kernels_notop.h5\n",
            "58889256/58889256 [==============================] - 1s 0us/step\n",
            "Model: \"sequential\"\n",
            "_________________________________________________________________\n",
            " Layer (type)                Output Shape              Param #   \n",
            "=================================================================\n",
            " vgg16 (Functional)          (None, 1, 1, 512)         14714688  \n",
            "                                                                 \n",
            " flatten (Flatten)           (None, 512)               0         \n",
            "                                                                 \n",
            " dense (Dense)               (None, 256)               131328    \n",
            "                                                                 \n",
            " dense_1 (Dense)             (None, 128)               32896     \n",
            "                                                                 \n",
            " dropout (Dropout)           (None, 128)               0         \n",
            "                                                                 \n",
            " dense_2 (Dense)             (None, 10)                1290      \n",
            "                                                                 \n",
            "=================================================================\n",
            "Total params: 14880202 (56.76 MB)\n",
            "Trainable params: 14880202 (56.76 MB)\n",
            "Non-trainable params: 0 (0.00 Byte)\n",
            "_________________________________________________________________\n"
          ]
        }
      ]
    },
    {
      "cell_type": "code",
      "source": [
        "history = model.fit( datagen.flow(X_train, y_train, batch_size=64), epochs=100, callbacks = [lr_scheduler] )"
      ],
      "metadata": {
        "colab": {
          "base_uri": "https://localhost:8080/"
        },
        "id": "MVv1OvC4qlyv",
        "outputId": "9b08c9ec-b569-49b0-9450-dcf45fe980c1"
      },
      "execution_count": null,
      "outputs": [
        {
          "output_type": "stream",
          "name": "stdout",
          "text": [
            "Epoch 1/100\n",
            "782/782 [==============================] - 57s 48ms/step - loss: 1.9687 - accuracy: 0.2219 - lr: 0.0010\n",
            "Epoch 2/100\n",
            "782/782 [==============================] - 38s 48ms/step - loss: 1.6153 - accuracy: 0.3743 - lr: 0.0010\n",
            "Epoch 3/100\n",
            "782/782 [==============================] - 37s 48ms/step - loss: 1.3509 - accuracy: 0.4977 - lr: 0.0010\n",
            "Epoch 4/100\n",
            "782/782 [==============================] - 37s 48ms/step - loss: 1.1720 - accuracy: 0.5861 - lr: 0.0010\n",
            "Epoch 5/100\n",
            "782/782 [==============================] - 38s 48ms/step - loss: 1.0399 - accuracy: 0.6384 - lr: 0.0010\n",
            "Epoch 6/100\n",
            "782/782 [==============================] - 37s 48ms/step - loss: 0.9562 - accuracy: 0.6789 - lr: 0.0010\n",
            "Epoch 7/100\n",
            "782/782 [==============================] - 38s 48ms/step - loss: 0.8726 - accuracy: 0.7088 - lr: 0.0010\n",
            "Epoch 8/100\n",
            "782/782 [==============================] - 38s 48ms/step - loss: 0.8220 - accuracy: 0.7308 - lr: 0.0010\n",
            "Epoch 9/100\n",
            "782/782 [==============================] - 37s 48ms/step - loss: 0.7755 - accuracy: 0.7497 - lr: 0.0010\n",
            "Epoch 10/100\n",
            "782/782 [==============================] - 37s 48ms/step - loss: 0.7308 - accuracy: 0.7628 - lr: 0.0010\n",
            "Epoch 11/100\n",
            "782/782 [==============================] - 37s 47ms/step - loss: 0.7012 - accuracy: 0.7734 - lr: 0.0010\n",
            "Epoch 12/100\n",
            "782/782 [==============================] - 37s 48ms/step - loss: 0.6746 - accuracy: 0.7839 - lr: 0.0010\n",
            "Epoch 13/100\n",
            "782/782 [==============================] - 38s 48ms/step - loss: 0.6674 - accuracy: 0.7843 - lr: 0.0010\n",
            "Epoch 14/100\n",
            "782/782 [==============================] - 38s 48ms/step - loss: 0.6286 - accuracy: 0.7984 - lr: 0.0010\n",
            "Epoch 15/100\n",
            "782/782 [==============================] - 37s 48ms/step - loss: 0.6036 - accuracy: 0.8081 - lr: 0.0010\n",
            "Epoch 16/100\n",
            "782/782 [==============================] - 37s 47ms/step - loss: 0.5871 - accuracy: 0.8131 - lr: 0.0010\n",
            "Epoch 17/100\n",
            "782/782 [==============================] - 37s 47ms/step - loss: 0.5740 - accuracy: 0.8213 - lr: 0.0010\n",
            "Epoch 18/100\n",
            "782/782 [==============================] - 37s 48ms/step - loss: 0.5588 - accuracy: 0.8219 - lr: 0.0010\n",
            "Epoch 19/100\n",
            "782/782 [==============================] - 37s 47ms/step - loss: 0.5531 - accuracy: 0.8263 - lr: 0.0010\n",
            "Epoch 20/100\n",
            "782/782 [==============================] - 37s 47ms/step - loss: 0.5305 - accuracy: 0.8333 - lr: 0.0010\n",
            "Epoch 21/100\n",
            "782/782 [==============================] - 37s 47ms/step - loss: 0.5176 - accuracy: 0.8368 - lr: 0.0010\n",
            "Epoch 22/100\n",
            "782/782 [==============================] - 37s 47ms/step - loss: 0.5128 - accuracy: 0.8399 - lr: 0.0010\n",
            "Epoch 23/100\n",
            "782/782 [==============================] - 37s 47ms/step - loss: 0.5422 - accuracy: 0.8298 - lr: 0.0010\n",
            "Epoch 24/100\n",
            "782/782 [==============================] - 37s 47ms/step - loss: 0.5040 - accuracy: 0.8406 - lr: 0.0010\n",
            "Epoch 25/100\n",
            "782/782 [==============================] - 37s 47ms/step - loss: 0.4854 - accuracy: 0.8447 - lr: 0.0010\n",
            "Epoch 26/100\n",
            "782/782 [==============================] - 37s 47ms/step - loss: 0.4674 - accuracy: 0.8525 - lr: 0.0010\n",
            "Epoch 27/100\n",
            "782/782 [==============================] - 37s 47ms/step - loss: 0.4591 - accuracy: 0.8557 - lr: 0.0010\n",
            "Epoch 28/100\n",
            "782/782 [==============================] - 37s 47ms/step - loss: 0.4603 - accuracy: 0.8552 - lr: 0.0010\n",
            "Epoch 29/100\n",
            "782/782 [==============================] - 37s 47ms/step - loss: 0.4544 - accuracy: 0.8560 - lr: 0.0010\n",
            "Epoch 30/100\n",
            "782/782 [==============================] - 37s 48ms/step - loss: 0.4663 - accuracy: 0.8538 - lr: 0.0010\n",
            "Epoch 31/100\n",
            "782/782 [==============================] - 38s 48ms/step - loss: 0.4304 - accuracy: 0.8634 - lr: 0.0010\n",
            "Epoch 32/100\n",
            "782/782 [==============================] - 37s 48ms/step - loss: 0.4343 - accuracy: 0.8637 - lr: 0.0010\n",
            "Epoch 33/100\n",
            "782/782 [==============================] - 37s 48ms/step - loss: 0.4147 - accuracy: 0.8700 - lr: 0.0010\n",
            "Epoch 34/100\n",
            "782/782 [==============================] - 38s 48ms/step - loss: 0.4221 - accuracy: 0.8685 - lr: 0.0010\n",
            "Epoch 35/100\n",
            "782/782 [==============================] - 37s 48ms/step - loss: 0.4148 - accuracy: 0.8703 - lr: 0.0010\n",
            "Epoch 36/100\n",
            "782/782 [==============================] - 37s 47ms/step - loss: 0.4148 - accuracy: 0.8715 - lr: 0.0010\n",
            "Epoch 37/100\n",
            "782/782 [==============================] - 39s 50ms/step - loss: 0.4112 - accuracy: 0.8728 - lr: 0.0010\n",
            "Epoch 38/100\n",
            "782/782 [==============================] - 38s 48ms/step - loss: 0.4107 - accuracy: 0.8721 - lr: 0.0010\n",
            "Epoch 39/100\n",
            "782/782 [==============================] - 38s 48ms/step - loss: 0.3997 - accuracy: 0.8780 - lr: 0.0010\n",
            "Epoch 40/100\n",
            "782/782 [==============================] - 37s 48ms/step - loss: 0.5031 - accuracy: 0.8482 - lr: 0.0010\n",
            "Epoch 41/100\n",
            "782/782 [==============================] - 38s 48ms/step - loss: 0.4233 - accuracy: 0.8684 - lr: 0.0010\n",
            "Epoch 42/100\n",
            "782/782 [==============================] - 38s 48ms/step - loss: 0.3785 - accuracy: 0.8840 - lr: 0.0010\n",
            "Epoch 43/100\n",
            "782/782 [==============================] - 37s 47ms/step - loss: 0.3751 - accuracy: 0.8838 - lr: 0.0010\n",
            "Epoch 44/100\n",
            "782/782 [==============================] - 37s 47ms/step - loss: 0.3879 - accuracy: 0.8778 - lr: 0.0010\n",
            "Epoch 45/100\n",
            "782/782 [==============================] - 37s 47ms/step - loss: 0.3712 - accuracy: 0.8852 - lr: 0.0010\n",
            "Epoch 46/100\n",
            "782/782 [==============================] - 37s 48ms/step - loss: 0.3815 - accuracy: 0.8819 - lr: 0.0010\n",
            "Epoch 47/100\n",
            "782/782 [==============================] - 37s 48ms/step - loss: 0.3952 - accuracy: 0.8774 - lr: 0.0010\n",
            "Epoch 48/100\n",
            "782/782 [==============================] - 37s 48ms/step - loss: 0.3896 - accuracy: 0.8803 - lr: 0.0010\n",
            "Epoch 49/100\n",
            "782/782 [==============================] - 37s 48ms/step - loss: 0.3814 - accuracy: 0.8806 - lr: 0.0010\n",
            "Epoch 50/100\n",
            "782/782 [==============================] - 36s 46ms/step - loss: 0.3617 - accuracy: 0.8901 - lr: 0.0010\n",
            "Epoch 51/100\n",
            "782/782 [==============================] - 37s 47ms/step - loss: 0.3618 - accuracy: 0.8894 - lr: 0.0010\n",
            "Epoch 52/100\n",
            "782/782 [==============================] - 36s 46ms/step - loss: 0.2707 - accuracy: 0.9154 - lr: 1.0000e-04\n",
            "Epoch 53/100\n",
            "782/782 [==============================] - 36s 46ms/step - loss: 0.2394 - accuracy: 0.9251 - lr: 1.0000e-04\n",
            "Epoch 54/100\n",
            "782/782 [==============================] - 36s 47ms/step - loss: 0.2296 - accuracy: 0.9269 - lr: 1.0000e-04\n",
            "Epoch 55/100\n",
            "782/782 [==============================] - 36s 46ms/step - loss: 0.2173 - accuracy: 0.9291 - lr: 1.0000e-04\n",
            "Epoch 56/100\n",
            "782/782 [==============================] - 37s 47ms/step - loss: 0.2104 - accuracy: 0.9315 - lr: 1.0000e-04\n",
            "Epoch 57/100\n",
            "782/782 [==============================] - 37s 47ms/step - loss: 0.2063 - accuracy: 0.9341 - lr: 1.0000e-04\n",
            "Epoch 58/100\n",
            "782/782 [==============================] - 37s 47ms/step - loss: 0.2039 - accuracy: 0.9347 - lr: 1.0000e-04\n",
            "Epoch 59/100\n",
            "782/782 [==============================] - 38s 48ms/step - loss: 0.1917 - accuracy: 0.9380 - lr: 1.0000e-04\n",
            "Epoch 60/100\n",
            "782/782 [==============================] - 37s 47ms/step - loss: 0.1926 - accuracy: 0.9379 - lr: 1.0000e-04\n",
            "Epoch 61/100\n",
            "782/782 [==============================] - 37s 47ms/step - loss: 0.1844 - accuracy: 0.9410 - lr: 1.0000e-04\n",
            "Epoch 62/100\n",
            "782/782 [==============================] - 37s 48ms/step - loss: 0.1855 - accuracy: 0.9406 - lr: 1.0000e-04\n",
            "Epoch 63/100\n",
            "782/782 [==============================] - 37s 48ms/step - loss: 0.1866 - accuracy: 0.9398 - lr: 1.0000e-04\n",
            "Epoch 64/100\n",
            "782/782 [==============================] - 37s 47ms/step - loss: 0.1784 - accuracy: 0.9422 - lr: 1.0000e-04\n",
            "Epoch 65/100\n",
            "782/782 [==============================] - 37s 48ms/step - loss: 0.1765 - accuracy: 0.9438 - lr: 1.0000e-04\n",
            "Epoch 66/100\n",
            "782/782 [==============================] - 37s 47ms/step - loss: 0.1741 - accuracy: 0.9439 - lr: 1.0000e-04\n",
            "Epoch 67/100\n",
            "782/782 [==============================] - 37s 47ms/step - loss: 0.1709 - accuracy: 0.9436 - lr: 1.0000e-04\n",
            "Epoch 68/100\n",
            "782/782 [==============================] - 37s 47ms/step - loss: 0.1682 - accuracy: 0.9455 - lr: 1.0000e-04\n",
            "Epoch 69/100\n",
            "782/782 [==============================] - 37s 48ms/step - loss: 0.1688 - accuracy: 0.9459 - lr: 1.0000e-04\n",
            "Epoch 70/100\n",
            "782/782 [==============================] - 37s 47ms/step - loss: 0.1625 - accuracy: 0.9470 - lr: 1.0000e-04\n",
            "Epoch 71/100\n",
            "782/782 [==============================] - 37s 47ms/step - loss: 0.1650 - accuracy: 0.9468 - lr: 1.0000e-04\n",
            "Epoch 72/100\n",
            "782/782 [==============================] - 37s 47ms/step - loss: 0.1606 - accuracy: 0.9483 - lr: 1.0000e-04\n",
            "Epoch 73/100\n",
            "782/782 [==============================] - 37s 47ms/step - loss: 0.1593 - accuracy: 0.9488 - lr: 1.0000e-04\n",
            "Epoch 74/100\n",
            "782/782 [==============================] - 37s 47ms/step - loss: 0.1561 - accuracy: 0.9496 - lr: 1.0000e-04\n",
            "Epoch 75/100\n",
            "782/782 [==============================] - 36s 47ms/step - loss: 0.1537 - accuracy: 0.9497 - lr: 1.0000e-04\n",
            "Epoch 76/100\n",
            "782/782 [==============================] - 37s 47ms/step - loss: 0.1505 - accuracy: 0.9503 - lr: 1.0000e-04\n",
            "Epoch 77/100\n",
            "782/782 [==============================] - 37s 47ms/step - loss: 0.1476 - accuracy: 0.9517 - lr: 1.0000e-04\n",
            "Epoch 78/100\n",
            "782/782 [==============================] - 37s 47ms/step - loss: 0.1643 - accuracy: 0.9487 - lr: 1.0000e-04\n",
            "Epoch 79/100\n",
            "782/782 [==============================] - 37s 47ms/step - loss: 0.1458 - accuracy: 0.9532 - lr: 1.0000e-04\n",
            "Epoch 80/100\n",
            "782/782 [==============================] - 37s 48ms/step - loss: 0.1502 - accuracy: 0.9522 - lr: 1.0000e-04\n",
            "Epoch 81/100\n",
            "782/782 [==============================] - 37s 47ms/step - loss: 0.1457 - accuracy: 0.9526 - lr: 1.0000e-04\n",
            "Epoch 82/100\n",
            "782/782 [==============================] - 37s 47ms/step - loss: 0.1413 - accuracy: 0.9540 - lr: 1.0000e-04\n",
            "Epoch 83/100\n",
            "782/782 [==============================] - 37s 47ms/step - loss: 0.1381 - accuracy: 0.9546 - lr: 1.0000e-04\n",
            "Epoch 84/100\n",
            "782/782 [==============================] - 38s 48ms/step - loss: 0.1394 - accuracy: 0.9543 - lr: 1.0000e-04\n",
            "Epoch 85/100\n",
            "782/782 [==============================] - 37s 47ms/step - loss: 0.1374 - accuracy: 0.9554 - lr: 1.0000e-04\n",
            "Epoch 86/100\n",
            "782/782 [==============================] - 37s 48ms/step - loss: 0.1363 - accuracy: 0.9560 - lr: 1.0000e-04\n",
            "Epoch 87/100\n",
            "782/782 [==============================] - 37s 48ms/step - loss: 0.1396 - accuracy: 0.9552 - lr: 1.0000e-04\n",
            "Epoch 88/100\n",
            "782/782 [==============================] - 37s 48ms/step - loss: 0.1327 - accuracy: 0.9560 - lr: 1.0000e-04\n",
            "Epoch 89/100\n",
            "782/782 [==============================] - 37s 48ms/step - loss: 0.1326 - accuracy: 0.9572 - lr: 1.0000e-04\n",
            "Epoch 90/100\n",
            "782/782 [==============================] - 37s 47ms/step - loss: 0.1302 - accuracy: 0.9582 - lr: 1.0000e-04\n",
            "Epoch 91/100\n",
            "782/782 [==============================] - 37s 47ms/step - loss: 0.1278 - accuracy: 0.9593 - lr: 1.0000e-04\n",
            "Epoch 92/100\n",
            "782/782 [==============================] - 36s 47ms/step - loss: 0.1294 - accuracy: 0.9578 - lr: 1.0000e-04\n",
            "Epoch 93/100\n",
            "782/782 [==============================] - 37s 47ms/step - loss: 0.1279 - accuracy: 0.9588 - lr: 1.0000e-04\n",
            "Epoch 94/100\n",
            "782/782 [==============================] - 37s 47ms/step - loss: 0.1251 - accuracy: 0.9596 - lr: 1.0000e-04\n",
            "Epoch 95/100\n",
            "782/782 [==============================] - 36s 46ms/step - loss: 0.1341 - accuracy: 0.9586 - lr: 1.0000e-04\n",
            "Epoch 96/100\n",
            "782/782 [==============================] - 37s 47ms/step - loss: 0.1244 - accuracy: 0.9601 - lr: 1.0000e-04\n",
            "Epoch 97/100\n",
            "782/782 [==============================] - 37s 47ms/step - loss: 0.1218 - accuracy: 0.9610 - lr: 1.0000e-04\n",
            "Epoch 98/100\n",
            "782/782 [==============================] - 37s 47ms/step - loss: 0.1192 - accuracy: 0.9605 - lr: 1.0000e-04\n",
            "Epoch 99/100\n",
            "782/782 [==============================] - 37s 47ms/step - loss: 0.1179 - accuracy: 0.9610 - lr: 1.0000e-04\n",
            "Epoch 100/100\n",
            "782/782 [==============================] - 37s 48ms/step - loss: 0.1134 - accuracy: 0.9629 - lr: 1.0000e-04\n"
          ]
        }
      ]
    },
    {
      "cell_type": "code",
      "source": [
        "plt.plot(history.history['loss'])\n",
        "plt.title('Model loss')\n",
        "plt.ylabel('Loss')\n",
        "plt.xlabel('Epoch')\n",
        "plt.show()\n",
        "\n",
        "plt.plot(history.history['accuracy'])\n",
        "plt.title('Model accuracy')\n",
        "plt.ylabel('Accuracy')\n",
        "plt.xlabel('Epoch')\n",
        "plt.show()"
      ],
      "metadata": {
        "colab": {
          "base_uri": "https://localhost:8080/",
          "height": 927
        },
        "id": "jNE1SEEPxMx0",
        "outputId": "c48807d6-93b0-4e30-c08f-640acbc2537e"
      },
      "execution_count": null,
      "outputs": [
        {
          "output_type": "display_data",
          "data": {
            "text/plain": [
              "<Figure size 640x480 with 1 Axes>"
            ],
            "image/png": "[encoded data removed]"
          },
          "metadata": {}
        },
        {
          "output_type": "display_data",
          "data": {
            "text/plain": [
              "<Figure size 640x480 with 1 Axes>"
            ],
            "image/png": "[encoded data removed]"
          },
          "metadata": {}
        }
      ]
    },
    {
      "cell_type": "code",
      "source": [
        "test_loss, test_accuracy = model.evaluate(X_test, y_test)\n",
        "print(f\"Test Accuracy: {test_accuracy * 100:.2f}%\")"
      ],
      "metadata": {
        "colab": {
          "base_uri": "https://localhost:8080/"
        },
        "id": "oXI3JvEBqUZN",
        "outputId": "3dff4b4e-95be-4ecf-a9de-f1abfe50a5e7"
      },
      "execution_count": null,
      "outputs": [
        {
          "output_type": "stream",
          "name": "stdout",
          "text": [
            "313/313 [==============================] - 3s 8ms/step - loss: 0.5760 - accuracy: 0.8877\n",
            "Test Accuracy: 88.77%\n"
          ]
        }
      ]
    },
    {
      "cell_type": "code",
      "source": [],
      "metadata": {
        "id": "qhyEK1u6qQ5G"
      },
      "execution_count": null,
      "outputs": []
    }
  ]
}