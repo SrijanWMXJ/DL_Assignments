{
  "nbformat": 4,
  "nbformat_minor": 0,
  "metadata": {
    "colab": {
      "provenance": []
    },
    "kernelspec": {
      "name": "python3",
      "display_name": "Python 3"
    },
    "language_info": {
      "name": "python"
    }
  },
  "cells": [
    {
      "cell_type": "code",
      "execution_count": null,
      "metadata": {
        "id": "L2OSelYSVEjT"
      },
      "outputs": [],
      "source": [
        "import numpy as np\n",
        "from sklearn.model_selection import train_test_split\n",
        "from sklearn.preprocessing import StandardScaler\n",
        "from sklearn import datasets\n",
        "from tensorflow.keras.models import Sequential\n",
        "from tensorflow.keras.layers import Dense, Activation, Dropout\n",
        "from tensorflow.keras.optimizers import Adam\n",
        "from sklearn.metrics import accuracy_score\n",
        "import matplotlib.pyplot as plt"
      ]
    },
    {
      "cell_type": "code",
      "source": [
        "iris = datasets.load_iris()\n",
        "features = iris.data\n",
        "labels = iris.target\n",
        "X_train, X_test, Y_train, Y_test = train_test_split(features, labels, test_size=0.2, random_state=5)"
      ],
      "metadata": {
        "id": "s2R3FCqmVTVf"
      },
      "execution_count": null,
      "outputs": []
    },
    {
      "cell_type": "code",
      "source": [
        "# Standardizing the data\n",
        "scaler = StandardScaler()\n",
        "X_train = scaler.fit_transform(X_train)\n",
        "X_test = scaler.transform(X_test)"
      ],
      "metadata": {
        "id": "tuss2wVmVU_i"
      },
      "execution_count": null,
      "outputs": []
    },
    {
      "cell_type": "code",
      "source": [
        "# Initializing parameters\n",
        "input_dim = X_train.shape[1]\n",
        "output_dim = len(np.unique(Y_train))\n",
        "epochs = 100\n",
        "batch_size = 32\n",
        "hidden_dim = 8"
      ],
      "metadata": {
        "id": "TKja_SoQpfCU"
      },
      "execution_count": null,
      "outputs": []
    },
    {
      "cell_type": "markdown",
      "source": [
        "a)\n",
        "Train a 2-layered neural network (1 hidden layer) model on the data. Initialize the weights using the He's\n",
        "method with normal distribution. Make predictions on the test data and\n",
        "compute the accuracy."
      ],
      "metadata": {
        "id": "erz-IP0zo3-l"
      }
    },
    {
      "cell_type": "code",
      "source": [
        "def create_model(input_dim, hidden_dim, output_dim):\n",
        "    model = Sequential()\n",
        "    model.add(Dense(hidden_dim, input_dim=input_dim, activation='relu', kernel_initializer='he_normal'))\n",
        "    model.add(Dense(output_dim, activation='softmax'))\n",
        "    return model"
      ],
      "metadata": {
        "id": "eIbKNltNVlTF"
      },
      "execution_count": null,
      "outputs": []
    },
    {
      "cell_type": "code",
      "source": [
        "model = create_model(input_dim, hidden_dim, output_dim)\n",
        "\n",
        "model.compile(loss='sparse_categorical_crossentropy', metrics=['accuracy'])\n",
        "\n",
        "model.fit(X_train, Y_train, batch_size=batch_size, epochs=epochs, verbose=1)"
      ],
      "metadata": {
        "colab": {
          "base_uri": "https://localhost:8080/"
        },
        "id": "xuJPHKnMpx9m",
        "outputId": "0c1b40a9-3017-4960-b012-1011d163b2a1"
      },
      "execution_count": null,
      "outputs": [
        {
          "output_type": "stream",
          "name": "stdout",
          "text": [
            "Epoch 1/100\n",
            "4/4 [==============================] - 1s 6ms/step - loss: 0.8175 - accuracy: 0.6000\n",
            "Epoch 2/100\n",
            "4/4 [==============================] - 0s 5ms/step - loss: 0.7921 - accuracy: 0.6083\n",
            "Epoch 3/100\n",
            "4/4 [==============================] - 0s 4ms/step - loss: 0.7748 - accuracy: 0.6167\n",
            "Epoch 4/100\n",
            "4/4 [==============================] - 0s 4ms/step - loss: 0.7598 - accuracy: 0.6250\n",
            "Epoch 5/100\n",
            "4/4 [==============================] - 0s 4ms/step - loss: 0.7464 - accuracy: 0.6333\n",
            "Epoch 6/100\n",
            "4/4 [==============================] - 0s 3ms/step - loss: 0.7335 - accuracy: 0.6500\n",
            "Epoch 7/100\n",
            "4/4 [==============================] - 0s 6ms/step - loss: 0.7211 - accuracy: 0.6500\n",
            "Epoch 8/100\n",
            "4/4 [==============================] - 0s 4ms/step - loss: 0.7096 - accuracy: 0.6500\n",
            "Epoch 9/100\n",
            "4/4 [==============================] - 0s 3ms/step - loss: 0.6981 - accuracy: 0.6750\n",
            "Epoch 10/100\n",
            "4/4 [==============================] - 0s 4ms/step - loss: 0.6881 - accuracy: 0.6833\n",
            "Epoch 11/100\n",
            "4/4 [==============================] - 0s 3ms/step - loss: 0.6777 - accuracy: 0.6917\n",
            "Epoch 12/100\n",
            "4/4 [==============================] - 0s 3ms/step - loss: 0.6673 - accuracy: 0.7000\n",
            "Epoch 13/100\n",
            "4/4 [==============================] - 0s 3ms/step - loss: 0.6576 - accuracy: 0.7167\n",
            "Epoch 14/100\n",
            "4/4 [==============================] - 0s 3ms/step - loss: 0.6481 - accuracy: 0.7333\n",
            "Epoch 15/100\n",
            "4/4 [==============================] - 0s 5ms/step - loss: 0.6389 - accuracy: 0.7333\n",
            "Epoch 16/100\n",
            "4/4 [==============================] - 0s 3ms/step - loss: 0.6299 - accuracy: 0.7667\n",
            "Epoch 17/100\n",
            "4/4 [==============================] - 0s 3ms/step - loss: 0.6210 - accuracy: 0.7667\n",
            "Epoch 18/100\n",
            "4/4 [==============================] - 0s 3ms/step - loss: 0.6123 - accuracy: 0.7833\n",
            "Epoch 19/100\n",
            "4/4 [==============================] - 0s 3ms/step - loss: 0.6041 - accuracy: 0.7917\n",
            "Epoch 20/100\n",
            "4/4 [==============================] - 0s 3ms/step - loss: 0.5958 - accuracy: 0.7917\n",
            "Epoch 21/100\n",
            "4/4 [==============================] - 0s 3ms/step - loss: 0.5881 - accuracy: 0.7917\n",
            "Epoch 22/100\n",
            "4/4 [==============================] - 0s 3ms/step - loss: 0.5806 - accuracy: 0.8000\n",
            "Epoch 23/100\n",
            "4/4 [==============================] - 0s 4ms/step - loss: 0.5728 - accuracy: 0.8000\n",
            "Epoch 24/100\n",
            "4/4 [==============================] - 0s 3ms/step - loss: 0.5658 - accuracy: 0.8083\n",
            "Epoch 25/100\n",
            "4/4 [==============================] - 0s 3ms/step - loss: 0.5584 - accuracy: 0.8083\n",
            "Epoch 26/100\n",
            "4/4 [==============================] - 0s 4ms/step - loss: 0.5514 - accuracy: 0.8083\n",
            "Epoch 27/100\n",
            "4/4 [==============================] - 0s 3ms/step - loss: 0.5451 - accuracy: 0.8083\n",
            "Epoch 28/100\n",
            "4/4 [==============================] - 0s 4ms/step - loss: 0.5383 - accuracy: 0.8083\n",
            "Epoch 29/100\n",
            "4/4 [==============================] - 0s 4ms/step - loss: 0.5324 - accuracy: 0.8083\n",
            "Epoch 30/100\n",
            "4/4 [==============================] - 0s 3ms/step - loss: 0.5262 - accuracy: 0.8167\n",
            "Epoch 31/100\n",
            "4/4 [==============================] - 0s 3ms/step - loss: 0.5201 - accuracy: 0.8167\n",
            "Epoch 32/100\n",
            "4/4 [==============================] - 0s 3ms/step - loss: 0.5145 - accuracy: 0.8167\n",
            "Epoch 33/100\n",
            "4/4 [==============================] - 0s 3ms/step - loss: 0.5093 - accuracy: 0.8083\n",
            "Epoch 34/100\n",
            "4/4 [==============================] - 0s 4ms/step - loss: 0.5038 - accuracy: 0.8083\n",
            "Epoch 35/100\n",
            "4/4 [==============================] - 0s 4ms/step - loss: 0.4984 - accuracy: 0.8083\n",
            "Epoch 36/100\n",
            "4/4 [==============================] - 0s 3ms/step - loss: 0.4934 - accuracy: 0.8167\n",
            "Epoch 37/100\n",
            "4/4 [==============================] - 0s 3ms/step - loss: 0.4886 - accuracy: 0.8167\n",
            "Epoch 38/100\n",
            "4/4 [==============================] - 0s 3ms/step - loss: 0.4841 - accuracy: 0.8167\n",
            "Epoch 39/100\n",
            "4/4 [==============================] - 0s 3ms/step - loss: 0.4795 - accuracy: 0.8167\n",
            "Epoch 40/100\n",
            "4/4 [==============================] - 0s 3ms/step - loss: 0.4755 - accuracy: 0.8167\n",
            "Epoch 41/100\n",
            "4/4 [==============================] - 0s 5ms/step - loss: 0.4711 - accuracy: 0.8167\n",
            "Epoch 42/100\n",
            "4/4 [==============================] - 0s 5ms/step - loss: 0.4670 - accuracy: 0.8167\n",
            "Epoch 43/100\n",
            "4/4 [==============================] - 0s 4ms/step - loss: 0.4631 - accuracy: 0.8167\n",
            "Epoch 44/100\n",
            "4/4 [==============================] - 0s 5ms/step - loss: 0.4591 - accuracy: 0.8167\n",
            "Epoch 45/100\n",
            "4/4 [==============================] - 0s 3ms/step - loss: 0.4555 - accuracy: 0.8167\n",
            "Epoch 46/100\n",
            "4/4 [==============================] - 0s 3ms/step - loss: 0.4516 - accuracy: 0.8167\n",
            "Epoch 47/100\n",
            "4/4 [==============================] - 0s 4ms/step - loss: 0.4482 - accuracy: 0.8167\n",
            "Epoch 48/100\n",
            "4/4 [==============================] - 0s 3ms/step - loss: 0.4454 - accuracy: 0.8167\n",
            "Epoch 49/100\n",
            "4/4 [==============================] - 0s 3ms/step - loss: 0.4419 - accuracy: 0.8167\n",
            "Epoch 50/100\n",
            "4/4 [==============================] - 0s 3ms/step - loss: 0.4387 - accuracy: 0.8167\n",
            "Epoch 51/100\n",
            "4/4 [==============================] - 0s 3ms/step - loss: 0.4362 - accuracy: 0.8167\n",
            "Epoch 52/100\n",
            "4/4 [==============================] - 0s 4ms/step - loss: 0.4334 - accuracy: 0.8167\n",
            "Epoch 53/100\n",
            "4/4 [==============================] - 0s 4ms/step - loss: 0.4307 - accuracy: 0.8167\n",
            "Epoch 54/100\n",
            "4/4 [==============================] - 0s 3ms/step - loss: 0.4280 - accuracy: 0.8167\n",
            "Epoch 55/100\n",
            "4/4 [==============================] - 0s 3ms/step - loss: 0.4255 - accuracy: 0.8167\n",
            "Epoch 56/100\n",
            "4/4 [==============================] - 0s 3ms/step - loss: 0.4231 - accuracy: 0.8167\n",
            "Epoch 57/100\n",
            "4/4 [==============================] - 0s 3ms/step - loss: 0.4204 - accuracy: 0.8167\n",
            "Epoch 58/100\n",
            "4/4 [==============================] - 0s 3ms/step - loss: 0.4179 - accuracy: 0.8167\n",
            "Epoch 59/100\n",
            "4/4 [==============================] - 0s 3ms/step - loss: 0.4154 - accuracy: 0.8167\n",
            "Epoch 60/100\n",
            "4/4 [==============================] - 0s 5ms/step - loss: 0.4135 - accuracy: 0.8167\n",
            "Epoch 61/100\n",
            "4/4 [==============================] - 0s 4ms/step - loss: 0.4111 - accuracy: 0.8167\n",
            "Epoch 62/100\n",
            "4/4 [==============================] - 0s 3ms/step - loss: 0.4091 - accuracy: 0.8167\n",
            "Epoch 63/100\n",
            "4/4 [==============================] - 0s 4ms/step - loss: 0.4069 - accuracy: 0.8167\n",
            "Epoch 64/100\n",
            "4/4 [==============================] - 0s 3ms/step - loss: 0.4051 - accuracy: 0.8167\n",
            "Epoch 65/100\n",
            "4/4 [==============================] - 0s 4ms/step - loss: 0.4030 - accuracy: 0.8167\n",
            "Epoch 66/100\n",
            "4/4 [==============================] - 0s 3ms/step - loss: 0.4009 - accuracy: 0.8167\n",
            "Epoch 67/100\n",
            "4/4 [==============================] - 0s 3ms/step - loss: 0.3995 - accuracy: 0.8167\n",
            "Epoch 68/100\n",
            "4/4 [==============================] - 0s 3ms/step - loss: 0.3973 - accuracy: 0.8167\n",
            "Epoch 69/100\n",
            "4/4 [==============================] - 0s 3ms/step - loss: 0.3956 - accuracy: 0.8167\n",
            "Epoch 70/100\n",
            "4/4 [==============================] - 0s 4ms/step - loss: 0.3941 - accuracy: 0.8167\n",
            "Epoch 71/100\n",
            "4/4 [==============================] - 0s 3ms/step - loss: 0.3923 - accuracy: 0.8167\n",
            "Epoch 72/100\n",
            "4/4 [==============================] - 0s 4ms/step - loss: 0.3911 - accuracy: 0.8167\n",
            "Epoch 73/100\n",
            "4/4 [==============================] - 0s 3ms/step - loss: 0.3892 - accuracy: 0.8167\n",
            "Epoch 74/100\n",
            "4/4 [==============================] - 0s 3ms/step - loss: 0.3880 - accuracy: 0.8167\n",
            "Epoch 75/100\n",
            "4/4 [==============================] - 0s 3ms/step - loss: 0.3861 - accuracy: 0.8250\n",
            "Epoch 76/100\n",
            "4/4 [==============================] - 0s 4ms/step - loss: 0.3848 - accuracy: 0.8250\n",
            "Epoch 77/100\n",
            "4/4 [==============================] - 0s 4ms/step - loss: 0.3831 - accuracy: 0.8250\n",
            "Epoch 78/100\n",
            "4/4 [==============================] - 0s 4ms/step - loss: 0.3817 - accuracy: 0.8250\n",
            "Epoch 79/100\n",
            "4/4 [==============================] - 0s 3ms/step - loss: 0.3805 - accuracy: 0.8250\n",
            "Epoch 80/100\n",
            "4/4 [==============================] - 0s 4ms/step - loss: 0.3791 - accuracy: 0.8250\n",
            "Epoch 81/100\n",
            "4/4 [==============================] - 0s 3ms/step - loss: 0.3779 - accuracy: 0.8250\n",
            "Epoch 82/100\n",
            "4/4 [==============================] - 0s 3ms/step - loss: 0.3768 - accuracy: 0.8250\n",
            "Epoch 83/100\n",
            "4/4 [==============================] - 0s 3ms/step - loss: 0.3751 - accuracy: 0.8250\n",
            "Epoch 84/100\n",
            "4/4 [==============================] - 0s 4ms/step - loss: 0.3739 - accuracy: 0.8250\n",
            "Epoch 85/100\n",
            "4/4 [==============================] - 0s 3ms/step - loss: 0.3729 - accuracy: 0.8333\n",
            "Epoch 86/100\n",
            "4/4 [==============================] - 0s 4ms/step - loss: 0.3716 - accuracy: 0.8333\n",
            "Epoch 87/100\n",
            "4/4 [==============================] - 0s 4ms/step - loss: 0.3703 - accuracy: 0.8333\n",
            "Epoch 88/100\n",
            "4/4 [==============================] - 0s 4ms/step - loss: 0.3692 - accuracy: 0.8250\n",
            "Epoch 89/100\n",
            "4/4 [==============================] - 0s 3ms/step - loss: 0.3678 - accuracy: 0.8333\n",
            "Epoch 90/100\n",
            "4/4 [==============================] - 0s 3ms/step - loss: 0.3668 - accuracy: 0.8333\n",
            "Epoch 91/100\n",
            "4/4 [==============================] - 0s 3ms/step - loss: 0.3656 - accuracy: 0.8333\n",
            "Epoch 92/100\n",
            "4/4 [==============================] - 0s 4ms/step - loss: 0.3646 - accuracy: 0.8333\n",
            "Epoch 93/100\n",
            "4/4 [==============================] - 0s 4ms/step - loss: 0.3633 - accuracy: 0.8333\n",
            "Epoch 94/100\n",
            "4/4 [==============================] - 0s 4ms/step - loss: 0.3624 - accuracy: 0.8333\n",
            "Epoch 95/100\n",
            "4/4 [==============================] - 0s 6ms/step - loss: 0.3611 - accuracy: 0.8333\n",
            "Epoch 96/100\n",
            "4/4 [==============================] - 0s 3ms/step - loss: 0.3605 - accuracy: 0.8333\n",
            "Epoch 97/100\n",
            "4/4 [==============================] - 0s 4ms/step - loss: 0.3591 - accuracy: 0.8333\n",
            "Epoch 98/100\n",
            "4/4 [==============================] - 0s 4ms/step - loss: 0.3582 - accuracy: 0.8333\n",
            "Epoch 99/100\n",
            "4/4 [==============================] - 0s 3ms/step - loss: 0.3571 - accuracy: 0.8333\n",
            "Epoch 100/100\n",
            "4/4 [==============================] - 0s 3ms/step - loss: 0.3565 - accuracy: 0.8333\n"
          ]
        },
        {
          "output_type": "execute_result",
          "data": {
            "text/plain": [
              "<keras.callbacks.History at 0x7d3d6bb339a0>"
            ]
          },
          "metadata": {},
          "execution_count": 8
        }
      ]
    },
    {
      "cell_type": "code",
      "source": [
        "y_pred_probs = model.predict(X_test)\n",
        "y_pred_classes = np.argmax(y_pred_probs, axis=1)\n",
        "accuracy = accuracy_score(Y_test, y_pred_classes)\n",
        "print(\"Accuracy:\", accuracy)"
      ],
      "metadata": {
        "colab": {
          "base_uri": "https://localhost:8080/"
        },
        "id": "uazl56FTV3lF",
        "outputId": "0efa2d27-eac6-444d-8164-f78368702a58"
      },
      "execution_count": null,
      "outputs": [
        {
          "output_type": "stream",
          "name": "stdout",
          "text": [
            "1/1 [==============================] - 0s 51ms/step\n",
            "Accuracy: 0.8666666666666667\n"
          ]
        }
      ]
    },
    {
      "cell_type": "markdown",
      "source": [
        "b) Vary the number of neurons in the hidden layer and show the impact on accuracy."
      ],
      "metadata": {
        "id": "pxr9QFwrtrSX"
      }
    },
    {
      "cell_type": "code",
      "source": [
        "hidden_neurons_list=[x for x in range(4,33,4)]\n",
        "\n",
        "accuracies = []\n",
        "\n",
        "for hidden_dim in hidden_neurons_list:\n",
        "\n",
        "    model = create_model(input_dim, hidden_dim, output_dim)\n",
        "\n",
        "    model.compile(loss='sparse_categorical_crossentropy', optimizer=Adam(), metrics=['accuracy'])\n",
        "\n",
        "    model.fit(X_train, Y_train, batch_size=batch_size, epochs=epochs, verbose=0)\n",
        "\n",
        "    y_pred_probs = model.predict(X_test)\n",
        "    y_pred_classes = np.argmax(y_pred_probs, axis=1)\n",
        "\n",
        "    accuracy = accuracy_score(Y_test, y_pred_classes)\n",
        "    accuracies.append(accuracy)\n",
        "    print(f\"Hidden Neurons: {hidden_dim}, Accuracy: {accuracy}\")\n"
      ],
      "metadata": {
        "colab": {
          "base_uri": "https://localhost:8080/"
        },
        "id": "Z8t1ABWDVph7",
        "outputId": "5d85a913-cf20-4406-873a-f256dd0b5622"
      },
      "execution_count": null,
      "outputs": [
        {
          "output_type": "stream",
          "name": "stdout",
          "text": [
            "1/1 [==============================] - 0s 55ms/step\n",
            "Hidden Neurons: 4, Accuracy: 0.6333333333333333\n",
            "1/1 [==============================] - 0s 54ms/step\n",
            "Hidden Neurons: 8, Accuracy: 0.9\n",
            "1/1 [==============================] - 0s 57ms/step\n",
            "Hidden Neurons: 12, Accuracy: 0.8666666666666667\n",
            "1/1 [==============================] - 0s 55ms/step\n",
            "Hidden Neurons: 16, Accuracy: 0.8333333333333334\n",
            "1/1 [==============================] - 0s 75ms/step\n",
            "Hidden Neurons: 20, Accuracy: 0.8666666666666667\n",
            "1/1 [==============================] - 0s 54ms/step\n",
            "Hidden Neurons: 24, Accuracy: 0.8333333333333334\n",
            "1/1 [==============================] - 0s 54ms/step\n",
            "Hidden Neurons: 28, Accuracy: 0.8333333333333334\n",
            "1/1 [==============================] - 0s 58ms/step\n",
            "Hidden Neurons: 32, Accuracy: 0.8666666666666667\n"
          ]
        }
      ]
    },
    {
      "cell_type": "code",
      "source": [
        "plt.plot(hidden_neurons_list, accuracies, marker='o')\n",
        "plt.xlabel('Number of Neurons in Hidden Layer')\n",
        "plt.ylabel('Accuracy')\n",
        "plt.title('Impact of Hidden Neurons on Accuracy')\n",
        "plt.grid()\n",
        "plt.show()\n"
      ],
      "metadata": {
        "colab": {
          "base_uri": "https://localhost:8080/",
          "height": 472
        },
        "id": "3MAZ5r3hW0QO",
        "outputId": "82e0f73c-f6db-4b01-a25d-ba33087a683a"
      },
      "execution_count": null,
      "outputs": [
        {
          "output_type": "display_data",
          "data": {
            "text/plain": [
              "<Figure size 640x480 with 1 Axes>"
            ],
            "image/png": "[encoded data removed]"
          },
          "metadata": {}
        }
      ]
    },
    {
      "cell_type": "markdown",
      "source": [
        "c)\n",
        "Take (one of) the case which has best accuracy and employ dropout with\n",
        "different values of dropout rate (say from 0.1 to 0.7). Plot the\n",
        "variation of accuracy versus dropout rate.\n"
      ],
      "metadata": {
        "id": "9LNbjzoBrM-X"
      }
    },
    {
      "cell_type": "code",
      "source": [
        "best_hidden_dim = 8\n",
        "dropout_rates = np.arange(0.1, 0.8, 0.1)\n",
        "accuracies = []\n",
        "\n",
        "for dropout_rate in dropout_rates:\n",
        "    model = Sequential()\n",
        "    model.add(Dense(best_hidden_dim, input_dim=input_dim, activation='relu', kernel_initializer='he_normal'))\n",
        "    model.add(Dropout(dropout_rate))\n",
        "    model.add(Dense(output_dim, activation='softmax'))\n",
        "\n",
        "    model.compile(loss='sparse_categorical_crossentropy', optimizer=Adam(), metrics=['accuracy'])\n",
        "\n",
        "    model.fit(X_train, Y_train, batch_size=batch_size, epochs=epochs, verbose=0)\n",
        "\n",
        "    y_pred_probs = model.predict(X_test)\n",
        "    y_pred_classes = np.argmax(y_pred_probs, axis=1)\n",
        "\n",
        "    accuracy = accuracy_score(Y_test, y_pred_classes)\n",
        "    accuracies.append(accuracy)\n",
        "    print(f\"Dropout Rate: {dropout_rate}, Accuracy: {accuracy}\")\n"
      ],
      "metadata": {
        "colab": {
          "base_uri": "https://localhost:8080/"
        },
        "id": "O40o3Bs0W-GR",
        "outputId": "153c8c71-c492-40f4-d05a-b90579f29ae8"
      },
      "execution_count": null,
      "outputs": [
        {
          "output_type": "stream",
          "name": "stdout",
          "text": [
            "1/1 [==============================] - 0s 59ms/step\n",
            "Dropout Rate: 0.1, Accuracy: 0.8333333333333334\n",
            "1/1 [==============================] - 0s 52ms/step\n",
            "Dropout Rate: 0.2, Accuracy: 0.8\n",
            "1/1 [==============================] - 0s 54ms/step\n",
            "Dropout Rate: 0.30000000000000004, Accuracy: 0.9\n",
            "1/1 [==============================] - 0s 78ms/step\n",
            "Dropout Rate: 0.4, Accuracy: 0.9333333333333333\n",
            "1/1 [==============================] - 0s 69ms/step\n",
            "Dropout Rate: 0.5, Accuracy: 0.7\n",
            "1/1 [==============================] - 0s 56ms/step\n",
            "Dropout Rate: 0.6, Accuracy: 0.7333333333333333\n",
            "1/1 [==============================] - 0s 58ms/step\n",
            "Dropout Rate: 0.7000000000000001, Accuracy: 0.8666666666666667\n"
          ]
        }
      ]
    },
    {
      "cell_type": "code",
      "source": [
        "plt.plot(dropout_rates, accuracies, marker='o')\n",
        "plt.xlabel('Dropout Rate')\n",
        "plt.ylabel('Accuracy')\n",
        "plt.title('Impact of Dropout Rate on Accuracy')\n",
        "plt.grid()\n",
        "plt.show()"
      ],
      "metadata": {
        "colab": {
          "base_uri": "https://localhost:8080/",
          "height": 472
        },
        "id": "OLbBZyP6XgjF",
        "outputId": "095237df-b85f-4bb4-93f5-f4e3c35ede45"
      },
      "execution_count": null,
      "outputs": [
        {
          "output_type": "display_data",
          "data": {
            "text/plain": [
              "<Figure size 640x480 with 1 Axes>"
            ],
            "image/png": "[encoded data removed]"
          },
          "metadata": {}
        }
      ]
    },
    {
      "cell_type": "markdown",
      "source": [
        "\n",
        "d) Now increase the\n",
        "number of hidden layers (with same no. of neurons) and show the\n",
        "variation of accuracy with respect to the number of hidden layers. You\n",
        "can select the number of neurons as determined best in part b)"
      ],
      "metadata": {
        "id": "X0MmShW8rk8F"
      }
    },
    {
      "cell_type": "code",
      "source": [
        "hidden_layers_list = [1, 2, 3, 4, 5]\n",
        "accuracies = []\n",
        "num_neurons = 16\n",
        "\n",
        "for num_hidden_layers in hidden_layers_list:\n",
        "    model = Sequential()\n",
        "    model.add(Dense(num_neurons, input_dim=input_dim, activation='relu', kernel_initializer='he_normal'))\n",
        "    for k in range(num_hidden_layers):\n",
        "        model.add(Dense(num_neurons, activation='relu', kernel_initializer='he_normal'))\n",
        "\n",
        "    model.add(Dense(output_dim, activation='softmax'))\n",
        "\n",
        "    model.compile(loss='sparse_categorical_crossentropy', optimizer=Adam(), metrics=['accuracy'])\n",
        "    model.fit(X_train, Y_train, batch_size=batch_size, epochs=epochs, verbose=0)\n",
        "\n",
        "    y_pred_probs = model.predict(X_test)\n",
        "    y_pred_classes = np.argmax(y_pred_probs, axis=1)\n",
        "\n",
        "    accuracy = accuracy_score(Y_test, y_pred_classes)\n",
        "    accuracies.append(accuracy)\n",
        "    print(f\"Hidden Layers: {num_hidden_layers}, Accuracy: {accuracy}\")"
      ],
      "metadata": {
        "colab": {
          "base_uri": "https://localhost:8080/"
        },
        "id": "IJ-rjnvCX1_q",
        "outputId": "7cfe53b3-6741-4913-fd9b-d5ef58c3f460"
      },
      "execution_count": null,
      "outputs": [
        {
          "output_type": "stream",
          "name": "stdout",
          "text": [
            "1/1 [==============================] - 0s 59ms/step\n",
            "Hidden Layers: 1, Accuracy: 0.8666666666666667\n",
            "1/1 [==============================] - 0s 70ms/step\n",
            "Hidden Layers: 2, Accuracy: 0.9333333333333333\n",
            "1/1 [==============================] - 0s 70ms/step\n",
            "Hidden Layers: 3, Accuracy: 0.9333333333333333\n",
            "1/1 [==============================] - 0s 124ms/step\n",
            "Hidden Layers: 4, Accuracy: 0.9\n",
            "1/1 [==============================] - 0s 88ms/step\n",
            "Hidden Layers: 5, Accuracy: 0.9\n"
          ]
        }
      ]
    },
    {
      "cell_type": "code",
      "source": [
        "# Plot accuracy versus number of hidden layers\n",
        "plt.plot(hidden_layers_list, accuracies, marker='o')\n",
        "plt.xlabel('Number of Hidden Layers')\n",
        "plt.ylabel('Accuracy')\n",
        "plt.title('Impact of Number of Hidden Layers on Accuracy')\n",
        "plt.grid()\n",
        "plt.show()\n"
      ],
      "metadata": {
        "colab": {
          "base_uri": "https://localhost:8080/",
          "height": 472
        },
        "id": "tsfIKqDrYH_7",
        "outputId": "b6eb857a-f0cf-473a-f072-6129ba9c23f4"
      },
      "execution_count": null,
      "outputs": [
        {
          "output_type": "display_data",
          "data": {
            "text/plain": [
              "<Figure size 640x480 with 1 Axes>"
            ],
            "image/png": "[encoded data removed]"
          },
          "metadata": {}
        }
      ]
    },
    {
      "cell_type": "markdown",
      "source": [
        "e) Using the setting as determined best in part b), train the model with a\n",
        "few different optimization algorithms (with default settings) and print\n",
        "the accuracy from each case. You may try adam, adagrad, adadelta."
      ],
      "metadata": {
        "id": "qgsP0NcVseN0"
      }
    },
    {
      "cell_type": "code",
      "source": [
        "from tensorflow.keras.optimizers import Adam, Adagrad, Adadelta\n",
        "\n",
        "num_neurons = 8\n",
        "\n",
        "optimizers = [Adagrad(), Adadelta(), Adam()]"
      ],
      "metadata": {
        "id": "tToMm-OSYsyv"
      },
      "execution_count": null,
      "outputs": []
    },
    {
      "cell_type": "code",
      "source": [
        "model = create_model(input_dim, hidden_dim, output_dim)\n",
        "\n",
        "model.compile(loss='sparse_categorical_crossentropy', optimizer=Adam(), metrics=['accuracy'])\n",
        "\n",
        "model.fit(X_train, Y_train, batch_size=batch_size, epochs=epochs, verbose=0)\n",
        "\n",
        "y_pred_probs = model.predict(X_test)\n",
        "y_pred_classes = np.argmax(y_pred_probs, axis=1)\n",
        "\n",
        "accuracy = accuracy_score(Y_test, y_pred_classes)\n",
        "accuracies.append(accuracy)\n",
        "print(f\"Optimizer: Adam, Accuracy: {accuracy}\")"
      ],
      "metadata": {
        "colab": {
          "base_uri": "https://localhost:8080/"
        },
        "id": "OFHVqN-TwOsw",
        "outputId": "38f0efa3-9ede-4a81-cce7-bbf5b4af0533"
      },
      "execution_count": null,
      "outputs": [
        {
          "output_type": "stream",
          "name": "stdout",
          "text": [
            "1/1 [==============================] - 0s 50ms/step\n",
            "Optimizer: Adam, Accuracy: 0.9\n"
          ]
        }
      ]
    },
    {
      "cell_type": "code",
      "source": [
        "model = create_model(input_dim, hidden_dim, output_dim)\n",
        "\n",
        "model.compile(loss='sparse_categorical_crossentropy', optimizer=Adagrad(), metrics=['accuracy'])\n",
        "\n",
        "model.fit(X_train, Y_train, batch_size=batch_size, epochs=epochs, verbose=0)\n",
        "\n",
        "y_pred_probs = model.predict(X_test)\n",
        "y_pred_classes = np.argmax(y_pred_probs, axis=1)\n",
        "\n",
        "accuracy = accuracy_score(Y_test, y_pred_classes)\n",
        "accuracies.append(accuracy)\n",
        "print(f\"Optimizer: Adagrad, Accuracy: {accuracy}\")"
      ],
      "metadata": {
        "colab": {
          "base_uri": "https://localhost:8080/"
        },
        "id": "2K6N2LJAxP17",
        "outputId": "f1ba0061-f653-46f3-984f-cfe37a7f858c"
      },
      "execution_count": null,
      "outputs": [
        {
          "output_type": "stream",
          "name": "stdout",
          "text": [
            "1/1 [==============================] - 0s 64ms/step\n",
            "Optimizer: Adagrad, Accuracy: 0.7333333333333333\n"
          ]
        }
      ]
    },
    {
      "cell_type": "code",
      "source": [
        "model = create_model(input_dim, hidden_dim, output_dim)\n",
        "\n",
        "model.compile(loss='sparse_categorical_crossentropy', optimizer=Adadelta(), metrics=['accuracy'])\n",
        "\n",
        "model.fit(X_train, Y_train, batch_size=batch_size, epochs=epochs, verbose=0)\n",
        "\n",
        "y_pred_probs = model.predict(X_test)\n",
        "y_pred_classes = np.argmax(y_pred_probs, axis=1)\n",
        "\n",
        "accuracy = accuracy_score(Y_test, y_pred_classes)\n",
        "accuracies.append(accuracy)\n",
        "print(f\"Hidden Neurons: adadelta, Accuracy: {accuracy}\")"
      ],
      "metadata": {
        "colab": {
          "base_uri": "https://localhost:8080/"
        },
        "id": "OPH2BZQtxcpy",
        "outputId": "846202ef-76cc-49ac-bba3-5addb438a0f7"
      },
      "execution_count": null,
      "outputs": [
        {
          "output_type": "stream",
          "name": "stdout",
          "text": [
            "1/1 [==============================] - 0s 83ms/step\n",
            "Hidden Neurons: adadelta, Accuracy: 0.5666666666666667\n"
          ]
        }
      ]
    },
    {
      "cell_type": "code",
      "source": [],
      "metadata": {
        "id": "tysNu-ahxnSe"
      },
      "execution_count": null,
      "outputs": []
    }
  ]
}